{
  "nbformat": 4,
  "nbformat_minor": 0,
  "metadata": {
    "colab": {
      "provenance": [],
      "gpuType": "T4"
    },
    "kernelspec": {
      "name": "python3",
      "display_name": "Python 3"
    },
    "language_info": {
      "name": "python"
    },
    "accelerator": "GPU"
  },
  "cells": [
    {
      "cell_type": "code",
      "execution_count": 32,
      "metadata": {
        "colab": {
          "base_uri": "https://localhost:8080/"
        },
        "id": "UYlsaokIMMRO",
        "outputId": "91872a74-d77c-4de9-8846-32f85d186048"
      },
      "outputs": [
        {
          "output_type": "stream",
          "name": "stdout",
          "text": [
            "Drive already mounted at /content/drive; to attempt to forcibly remount, call drive.mount(\"/content/drive\", force_remount=True).\n"
          ]
        }
      ],
      "source": [
        "from google.colab import drive\n",
        "drive.mount('/content/drive')"
      ]
    },
    {
      "cell_type": "code",
      "source": [
        "%cd /content/drive/MyDrive/PARALELA 3"
      ],
      "metadata": {
        "colab": {
          "base_uri": "https://localhost:8080/"
        },
        "id": "9UivpQyaMQRL",
        "outputId": "dc873587-e422-46dd-fb64-170c33bae733"
      },
      "execution_count": 33,
      "outputs": [
        {
          "output_type": "stream",
          "name": "stdout",
          "text": [
            "/content/drive/MyDrive/PARALELA 3\n"
          ]
        }
      ]
    },
    {
      "cell_type": "code",
      "source": [
        "!make"
      ],
      "metadata": {
        "colab": {
          "base_uri": "https://localhost:8080/"
        },
        "id": "R1oVsFBOMfaZ",
        "outputId": "0ec3d801-4269-4bf8-a2d0-b19c21563b57"
      },
      "execution_count": 34,
      "outputs": [
        {
          "output_type": "stream",
          "name": "stdout",
          "text": [
            "make: Nothing to be done for 'all'.\n"
          ]
        }
      ]
    },
    {
      "cell_type": "code",
      "source": [
        "!chmod +x compartida"
      ],
      "metadata": {
        "id": "XbAa8AriMk9p"
      },
      "execution_count": 35,
      "outputs": []
    },
    {
      "cell_type": "code",
      "source": [
        "!chmod +x global"
      ],
      "metadata": {
        "id": "zZ1-9P9fOFjp"
      },
      "execution_count": 36,
      "outputs": []
    },
    {
      "cell_type": "code",
      "source": [
        "!chmod +x hough"
      ],
      "metadata": {
        "id": "PVg9mVlhQ08h"
      },
      "execution_count": 37,
      "outputs": []
    },
    {
      "cell_type": "code",
      "source": [
        "!./hough runway.pgm"
      ],
      "metadata": {
        "colab": {
          "base_uri": "https://localhost:8080/"
        },
        "id": "Q9gWAwMkMu_5",
        "outputId": "4f7fcb62-9d60-460a-cfb9-6ae61bde9d1a"
      },
      "execution_count": 38,
      "outputs": [
        {
          "output_type": "stream",
          "name": "stdout",
          "text": [
            "Execution number: 1\n",
            "Tiempo de ejecución del kernel: 1.559424 ms\n",
            "Done!\n",
            "Execution number: 2\n",
            "Tiempo de ejecución del kernel: 1.560384 ms\n",
            "Done!\n",
            "Execution number: 3\n",
            "Tiempo de ejecución del kernel: 1.558560 ms\n",
            "Done!\n",
            "Execution number: 4\n",
            "Tiempo de ejecución del kernel: 1.543488 ms\n",
            "Done!\n",
            "Execution number: 5\n",
            "Tiempo de ejecución del kernel: 1.567200 ms\n",
            "Done!\n",
            "Execution number: 6\n",
            "Tiempo de ejecución del kernel: 1.564704 ms\n",
            "Done!\n",
            "Execution number: 7\n",
            "Tiempo de ejecución del kernel: 1.564608 ms\n",
            "Done!\n",
            "Execution number: 8\n",
            "Tiempo de ejecución del kernel: 1.542176 ms\n",
            "Done!\n",
            "Execution number: 9\n",
            "Tiempo de ejecución del kernel: 1.554080 ms\n",
            "Done!\n",
            "Execution number: 10\n",
            "Tiempo de ejecución del kernel: 1.552448 ms\n",
            "Done!\n"
          ]
        }
      ]
    },
    {
      "cell_type": "code",
      "source": [
        "!./compartida runway.pgm"
      ],
      "metadata": {
        "colab": {
          "base_uri": "https://localhost:8080/"
        },
        "id": "8CborVscN9tJ",
        "outputId": "5de603dd-c241-458f-ef0e-5ab1c325ceff"
      },
      "execution_count": 39,
      "outputs": [
        {
          "output_type": "stream",
          "name": "stdout",
          "text": [
            "Execution number: 1\n",
            "Tiempo de ejecución del kernel: 1.414592 ms\n",
            "Done!\n",
            "Execution number: 2\n",
            "Tiempo de ejecución del kernel: 1.410656 ms\n",
            "Done!\n",
            "Execution number: 3\n",
            "Tiempo de ejecución del kernel: 1.415136 ms\n",
            "Done!\n",
            "Execution number: 4\n",
            "Tiempo de ejecución del kernel: 1.410848 ms\n",
            "Done!\n",
            "Execution number: 5\n",
            "Tiempo de ejecución del kernel: 1.411072 ms\n",
            "Done!\n",
            "Execution number: 6\n",
            "Tiempo de ejecución del kernel: 1.413120 ms\n",
            "Done!\n",
            "Execution number: 7\n",
            "Tiempo de ejecución del kernel: 1.409056 ms\n",
            "Done!\n",
            "Execution number: 8\n",
            "Tiempo de ejecución del kernel: 1.414784 ms\n",
            "Done!\n",
            "Execution number: 9\n",
            "Tiempo de ejecución del kernel: 1.413184 ms\n",
            "Done!\n",
            "Execution number: 10\n",
            "Tiempo de ejecución del kernel: 1.412736 ms\n",
            "Done!\n"
          ]
        }
      ]
    },
    {
      "cell_type": "code",
      "source": [
        "!./global runway.pgm"
      ],
      "metadata": {
        "colab": {
          "base_uri": "https://localhost:8080/"
        },
        "id": "mpnGmfKnR4Jx",
        "outputId": "730ca6c6-27d6-48a1-d382-1b49ea9146e9"
      },
      "execution_count": 40,
      "outputs": [
        {
          "output_type": "stream",
          "name": "stdout",
          "text": [
            "Execution number: 1\n",
            "Tiempo de ejecución del kernel: 1.508768 ms\n",
            "Done!\n",
            "Execution number: 2\n",
            "Tiempo de ejecución del kernel: 1.465664 ms\n",
            "Done!\n",
            "Execution number: 3\n",
            "Tiempo de ejecución del kernel: 1.456160 ms\n",
            "Done!\n",
            "Execution number: 4\n",
            "Tiempo de ejecución del kernel: 1.412448 ms\n",
            "Done!\n",
            "Execution number: 5\n",
            "Tiempo de ejecución del kernel: 1.372160 ms\n",
            "Done!\n",
            "Execution number: 6\n",
            "Tiempo de ejecución del kernel: 1.361920 ms\n",
            "Done!\n",
            "Execution number: 7\n",
            "Tiempo de ejecución del kernel: 1.337344 ms\n",
            "Done!\n",
            "Execution number: 8\n",
            "Tiempo de ejecución del kernel: 1.336544 ms\n",
            "Done!\n",
            "Execution number: 9\n",
            "Tiempo de ejecución del kernel: 1.318720 ms\n",
            "Done!\n",
            "Execution number: 10\n",
            "Tiempo de ejecución del kernel: 1.328288 ms\n",
            "Done!\n"
          ]
        }
      ]
    }
  ]
}